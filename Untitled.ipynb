{
 "cells": [
  {
   "cell_type": "code",
   "execution_count": 3,
   "id": "c30f9a96-1500-4dfd-aa8a-4e9b12568967",
   "metadata": {},
   "outputs": [
    {
     "name": "stdout",
     "output_type": "stream",
     "text": [
      "Collecting package metadata (current_repodata.json): done\n",
      "Solving environment: failed with initial frozen solve. Retrying with flexible solve.\n",
      "Collecting package metadata (repodata.json): | ^C\n",
      "\\ "
     ]
    }
   ],
   "source": [
    "!conda install -y -n nbenvconda sklearn"
   ]
  },
  {
   "cell_type": "code",
   "execution_count": 4,
   "id": "0397df96-c09a-42ac-b7c3-3ae20bed805f",
   "metadata": {},
   "outputs": [
    {
     "name": "stdout",
     "output_type": "stream",
     "text": [
      "# packages in environment at /home/users/eboland/.conda/envs/nbenvconda:\n",
      "#\n",
      "# Name                    Version                   Build  Channel\n",
      "scikit-learn              0.23.2           py39hf3c863f_3    conda-forge\n"
     ]
    }
   ],
   "source": [
    "!conda list -n nbenvconda scikit-learn"
   ]
  },
  {
   "cell_type": "code",
   "execution_count": 6,
   "id": "81268f0f-1de8-4c38-a69f-80e383b06c11",
   "metadata": {},
   "outputs": [
    {
     "name": "stdout",
     "output_type": "stream",
     "text": [
      "Collecting package metadata (current_repodata.json): done\n",
      "Solving environment: done\n",
      "\n",
      "\n",
      "==> WARNING: A newer version of conda exists. <==\n",
      "  current version: 4.14.0\n",
      "  latest version: 22.11.1\n",
      "\n",
      "Please update conda by running\n",
      "\n",
      "    $ conda update -n base -c conda-forge conda\n",
      "\n",
      "\n",
      "\n",
      "## Package Plan ##\n",
      "\n",
      "  environment location: /home/users/eboland/.conda/envs/nbenvconda\n",
      "\n",
      "  added / updated specs:\n",
      "    - scikit-learn\n",
      "\n",
      "\n",
      "The following packages will be downloaded:\n",
      "\n",
      "    package                    |            build\n",
      "    ---------------------------|-----------------\n",
      "    scikit-learn-1.1.2         |   py39he5e8d7e_0         8.2 MB  conda-forge\n",
      "    ------------------------------------------------------------\n",
      "                                           Total:         8.2 MB\n",
      "\n",
      "The following packages will be UPDATED:\n",
      "\n",
      "  scikit-learn                        0.23.2-py39hf3c863f_3 --> 1.1.2-py39he5e8d7e_0\n",
      "\n",
      "\n",
      "\n",
      "Downloading and Extracting Packages\n",
      "scikit-learn-1.1.2   | 8.2 MB    | ##################################### | 100% \n",
      "Preparing transaction: done\n",
      "Verifying transaction: done\n",
      "Executing transaction: done\n",
      "Retrieving notices: ...working... done\n"
     ]
    }
   ],
   "source": [
    "!conda update -y -n nbenvconda -c condaf scikit-learn"
   ]
  },
  {
   "cell_type": "code",
   "execution_count": null,
   "id": "7f3136d7-d415-404e-a70f-c0801b7f5afe",
   "metadata": {},
   "outputs": [],
   "source": []
  }
 ],
 "metadata": {
  "kernelspec": {
   "display_name": "nbenvconda",
   "language": "python",
   "name": "nbenvconda"
  },
  "language_info": {
   "codemirror_mode": {
    "name": "ipython",
    "version": 3
   },
   "file_extension": ".py",
   "mimetype": "text/x-python",
   "name": "python",
   "nbconvert_exporter": "python",
   "pygments_lexer": "ipython3",
   "version": "3.9.4"
  }
 },
 "nbformat": 4,
 "nbformat_minor": 5
}
