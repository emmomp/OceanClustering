{
 "cells": [
  {
   "cell_type": "code",
   "execution_count": 1,
   "id": "90ed8179-aea7-4087-8fac-a7f3e8982960",
   "metadata": {},
   "outputs": [],
   "source": [
    "import shutil\n",
    "import os"
   ]
  },
  {
   "cell_type": "code",
   "execution_count": 3,
   "id": "bc023f87-9585-4854-9322-1b5352e83871",
   "metadata": {},
   "outputs": [
    {
     "data": {
      "text/plain": [
       "'/home/jovyan/OceanClustering/code.zip'"
      ]
     },
     "execution_count": 3,
     "metadata": {},
     "output_type": "execute_result"
    }
   ],
   "source": [
    "shutil.make_archive('code','zip','code')\n",
    "#shutil.make_archive('model','zip','model')\n",
    "#shutil.make_archive('data','zip','data')\n",
    "#shutil.make_archive('figures','zip','figures/')"
   ]
  },
  {
   "cell_type": "code",
   "execution_count": 2,
   "id": "17a954cf-3e06-4b29-842f-1f48784ac796",
   "metadata": {},
   "outputs": [
    {
     "data": {
      "text/plain": [
       "'/home/jovyan/OceanClustering/animation.zip'"
      ]
     },
     "execution_count": 2,
     "metadata": {},
     "output_type": "execute_result"
    }
   ],
   "source": [
    "shutil.make_archive('animation','zip','figures/anim')"
   ]
  },
  {
   "cell_type": "code",
   "execution_count": 4,
   "id": "93108a8e-278c-44f9-8181-be9c0297b052",
   "metadata": {},
   "outputs": [],
   "source": [
    "shutil.rmtree('figures')"
   ]
  },
  {
   "cell_type": "code",
   "execution_count": 2,
   "id": "1c9bcbe7-f4df-43e7-adba-4585d08d256f",
   "metadata": {},
   "outputs": [
    {
     "data": {
      "text/plain": [
       "'/home/jovyan/model-100.zip'"
      ]
     },
     "execution_count": 2,
     "metadata": {},
     "output_type": "execute_result"
    }
   ],
   "source": [
    "shutil.make_archive('old','zip','old')\n",
    "shutil.make_archive('model-100','zip','model-100')"
   ]
  }
 ],
 "metadata": {
  "kernelspec": {
   "display_name": "Python 3 (ipykernel)",
   "language": "python",
   "name": "python3"
  },
  "language_info": {
   "codemirror_mode": {
    "name": "ipython",
    "version": 3
   },
   "file_extension": ".py",
   "mimetype": "text/x-python",
   "name": "python",
   "nbconvert_exporter": "python",
   "pygments_lexer": "ipython3",
   "version": "3.9.12"
  }
 },
 "nbformat": 4,
 "nbformat_minor": 5
}
